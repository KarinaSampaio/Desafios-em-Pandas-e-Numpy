{
 "cells": [
  {
   "metadata": {},
   "cell_type": "markdown",
   "source": "### Filtrar os anos com precipitação total (soma dos meses) maior que 1000 mm.",
   "id": "70242b700cbc6315"
  },
  {
   "metadata": {
    "ExecuteTime": {
     "end_time": "2024-07-02T19:03:57.427061Z",
     "start_time": "2024-07-02T19:03:56.458985Z"
    }
   },
   "cell_type": "code",
   "source": [
    "import pandas as pd\n",
    "\n",
    " # Exemplo de DataFrame\n",
    " \n",
    "data = {\n",
    "    'Ano': [2020, 2021, 2022],\n",
    "    'Mês1': [100, 200, 300],\n",
    "    'Mês2': [110, 210, 310],\n",
    "    'Mês3': [120, 220, 320],\n",
    "    'Mês4': [130, 230, 330],\n",
    "    'Mês5': [140, 240, 340],\n",
    "    'Mês6': [150, 250, 350],\n",
    "    'Mês7': [160, 260, 360],\n",
    "    'Mês8': [170, 270, 370],\n",
    "    'Mês9': [180, 280, 380],\n",
    "    'Mês10': [190, 290, 390],\n",
    "    'Mês11': [200, 300, 400],\n",
    "    'Mês12': [210, 310, 410]\n",
    "}\n",
    "\n",
    "df = pd.DataFrame(data)\n",
    "\n",
    "# Calcular a precipitação total por ano\n",
    "df['Precipitação Total'] = df.iloc[:, 1:].sum(axis=1)\n",
    "\n",
    "# Filtrar anos com precipitação total maior que 1000 mm\n",
    "\n",
    "resultado = df[df['Precipitação Total'] > 1000]\n",
    "\n",
    "# Exibir o resultado\n",
    "print(resultado)"
   ],
   "id": "67d887e3da8a575",
   "outputs": [
    {
     "name": "stdout",
     "output_type": "stream",
     "text": [
      "    Ano  Mês1  Mês2  Mês3  Mês4  Mês5  Mês6  Mês7  Mês8  Mês9  Mês10  Mês11  \\\n",
      "0  2020   100   110   120   130   140   150   160   170   180    190    200   \n",
      "1  2021   200   210   220   230   240   250   260   270   280    290    300   \n",
      "2  2022   300   310   320   330   340   350   360   370   380    390    400   \n",
      "\n",
      "   Mês12  Precipitação Total  \n",
      "0    210                1860  \n",
      "1    310                3060  \n",
      "2    410                4260  \n"
     ]
    }
   ],
   "execution_count": 1
  },
  {
   "metadata": {},
   "cell_type": "markdown",
   "source": "#### 2. Calcular a média de precipitação para cada mês.",
   "id": "584e76e1991d9c34"
  },
  {
   "metadata": {
    "ExecuteTime": {
     "end_time": "2024-07-02T19:08:27.734060Z",
     "start_time": "2024-07-02T19:08:27.722996Z"
    }
   },
   "cell_type": "code",
   "source": [
    "import pandas as pd\n",
    "\n",
    "# Exemplo de DataFrame\n",
    "data = {\n",
    "    'Ano': [2020, 2021, 2022],\n",
    "    'Mês1': [100, 200, 300],\n",
    "    'Mês2': [110, 210, 310],\n",
    "    'Mês3': [120, 220, 320],\n",
    "    'Mês4': [130, 230, 330],\n",
    "    'Mês5': [140, 240, 340],\n",
    "    'Mês6': [150, 250, 350],\n",
    "    'Mês7': [160, 260, 360],\n",
    "    'Mês8': [170, 270, 370],\n",
    "    'Mês9': [180, 280, 380],\n",
    "    'Mês10': [190, 290, 390],\n",
    "    'Mês11': [200, 300, 400],\n",
    "    'Mês12': [210, 310, 410]\n",
    "}\n",
    "\n",
    "df = pd.DataFrame(data)\n",
    "\n",
    "# Calcular a média de precipitação para cada mês\n",
    "media_precipitacao = df.iloc[:, 1:].mean()\n",
    "\n",
    "# Exibir o resultado\n",
    "print(media_precipitacao)\n"
   ],
   "id": "eb1332dd4e2f0315",
   "outputs": [
    {
     "name": "stdout",
     "output_type": "stream",
     "text": [
      "Mês1     200.0\n",
      "Mês2     210.0\n",
      "Mês3     220.0\n",
      "Mês4     230.0\n",
      "Mês5     240.0\n",
      "Mês6     250.0\n",
      "Mês7     260.0\n",
      "Mês8     270.0\n",
      "Mês9     280.0\n",
      "Mês10    290.0\n",
      "Mês11    300.0\n",
      "Mês12    310.0\n",
      "dtype: float64\n"
     ]
    }
   ],
   "execution_count": 2
  },
  {
   "metadata": {},
   "cell_type": "markdown",
   "source": "#### 4. Preencher os valores ausentes na coluna 'Feb' com a média dessa coluna.",
   "id": "2f887b1417ca573b"
  },
  {
   "metadata": {
    "ExecuteTime": {
     "end_time": "2024-07-02T19:13:36.840718Z",
     "start_time": "2024-07-02T19:13:36.823830Z"
    }
   },
   "cell_type": "code",
   "source": [
    "import pandas as pd\n",
    "import numpy as np\n",
    "\n",
    "# Exemplo de DataFrame com valores ausentes na coluna 'Mês2'\n",
    "data = {\n",
    "    'Ano': [2020, 2021, 2022],\n",
    "    'Mês1': [100, 200, 300],\n",
    "    'Mês2': [110, np.nan, 310],  # np.nan representa um valor ausente\n",
    "    'Mês3': [120, 220, 320],\n",
    "    'Mês4': [130, 230, 330],\n",
    "    'Mês5': [140, 240, 340],\n",
    "    'Mês6': [150, 250, 350],\n",
    "    'Mês7': [160, 260, 360],\n",
    "    'Mês8': [170, 270, 370],\n",
    "    'Mês9': [180, 280, 380],\n",
    "    'Mês10': [190, 290, 390],\n",
    "    'Mês11': [200, 300, 400],\n",
    "    'Mês12': [210, 310, 410]\n",
    "}\n",
    "\n",
    "df = pd.DataFrame(data)\n",
    "\n",
    "# Calcular a média da coluna 'Mês2'\n",
    "media_fevereiro = df['Mês2'].mean()\n",
    "\n",
    "# Preencher valores ausentes na coluna 'Mês2' com a média dessa coluna\n",
    "df['Mês2'] = df['Mês2'].fillna(media_fevereiro)\n",
    "\n",
    "# Exibir o resultado\n",
    "print(df)\n"
   ],
   "id": "de086ecf7803ced6",
   "outputs": [
    {
     "name": "stdout",
     "output_type": "stream",
     "text": [
      "    Ano  Mês1   Mês2  Mês3  Mês4  Mês5  Mês6  Mês7  Mês8  Mês9  Mês10  Mês11  \\\n",
      "0  2020   100  110.0   120   130   140   150   160   170   180    190    200   \n",
      "1  2021   200  210.0   220   230   240   250   260   270   280    290    300   \n",
      "2  2022   300  310.0   320   330   340   350   360   370   380    390    400   \n",
      "\n",
      "   Mês12  \n",
      "0    210  \n",
      "1    310  \n",
      "2    410  \n"
     ]
    }
   ],
   "execution_count": 4
  },
  {
   "metadata": {},
   "cell_type": "markdown",
   "source": "### 5. Selecionar todas as linhas onde a precipitação em agosto foi maior que 300 mm e apenas as colunas de junho a agosto.",
   "id": "13cf05739b3c560d"
  },
  {
   "metadata": {
    "ExecuteTime": {
     "end_time": "2024-07-02T19:20:19.109609Z",
     "start_time": "2024-07-02T19:20:19.086902Z"
    }
   },
   "cell_type": "code",
   "source": [
    "import pandas as pd\n",
    "import numpy as np\n",
    "\n",
    "# Exemplo de DataFrame com valores ausentes na coluna 'Mês2'\n",
    "data = {\n",
    "    'Ano': [2020, 2021, 2022],\n",
    "    'Mês1': [100, 200, 300],\n",
    "    'Mês2': [110, np.nan, 310],  # np.nan representa um valor ausente\n",
    "    'Mês3': [120, 220, 320],\n",
    "    'Mês4': [130, 230, 330],\n",
    "    'Mês5': [140, 240, 340],\n",
    "    'Mês6': [150, 250, 350],\n",
    "    'Mês7': [160, 260, 360],\n",
    "    'Mês8': [170, 270, 370],\n",
    "    'Mês9': [180, 280, 380],\n",
    "    'Mês10': [190, 290, 390],\n",
    "    'Mês11': [200, 300, 400],\n",
    "    'Mês12': [210, 310, 410]\n",
    "}\n",
    "\n",
    "df = pd.DataFrame(data)\n",
    "\n",
    "# Selecionar linhas onde a precipitação em agosto foi maior que 300 mm\n",
    "filtro_agosto = df['Mês8'] > 300\n",
    "\n",
    "# Selecionar colunas de junho a agosto\n",
    "colunas_jun_ago = ['Mês6', 'Mês7', 'Mês8']\n",
    "\n",
    "# Aplicar o filtro e selecionar as colunas\n",
    "resultado = df.loc[filtro_agosto, colunas_jun_ago]\n",
    "\n",
    "# Exibir resultado\n",
    "print(resultado)"
   ],
   "id": "bd90828ebbc17fbc",
   "outputs": [
    {
     "name": "stdout",
     "output_type": "stream",
     "text": [
      "   Mês6  Mês7  Mês8\n",
      "2   350   360   370\n"
     ]
    }
   ],
   "execution_count": 6
  },
  {
   "metadata": {},
   "cell_type": "markdown",
   "source": "#### 6. Criar uma nova coluna 'Chuva_Media_Anual' que contenha a média de precipitação de cada ano, excluindo os meses com valores ausentes.",
   "id": "ef0799709b0d77fd"
  },
  {
   "metadata": {
    "ExecuteTime": {
     "end_time": "2024-07-02T19:22:08.924628Z",
     "start_time": "2024-07-02T19:22:08.904339Z"
    }
   },
   "cell_type": "code",
   "source": [
    "import pandas as pd\n",
    "import numpy as np\n",
    "\n",
    "# Exemplo de DataFrame com valores ausentes na coluna 'Mês2'\n",
    "data = {\n",
    "    'Ano': [2020, 2021, 2022],\n",
    "    'Mês1': [100, 200, 300],\n",
    "    'Mês2': [110, np.nan, 310],  # np.nan representa um valor ausente\n",
    "    'Mês3': [120, 220, 320],\n",
    "    'Mês4': [130, 230, 330],\n",
    "    'Mês5': [140, 240, 340],\n",
    "    'Mês6': [150, 250, 350],\n",
    "    'Mês7': [160, 260, 360],\n",
    "    'Mês8': [170, 270, 370],\n",
    "    'Mês9': [180, 280, 380],\n",
    "    'Mês10': [190, 290, 390],\n",
    "    'Mês11': [200, 300, 400],\n",
    "    'Mês12': [210, 310, 410]\n",
    "}\n",
    "\n",
    "df = pd.DataFrame(data)\n",
    "\n",
    "# Calcular a média de precipitação anual, excluindo os valores ausentes\n",
    "df['Chuva_Media_Anual'] = df.iloc[:, 1:].mean(axis=1, skipna=True)\n",
    "\n",
    "# Exibir o resultado\n",
    "print(df)\n"
   ],
   "id": "967d28ceb330a10d",
   "outputs": [
    {
     "name": "stdout",
     "output_type": "stream",
     "text": [
      "    Ano  Mês1   Mês2  Mês3  Mês4  Mês5  Mês6  Mês7  Mês8  Mês9  Mês10  Mês11  \\\n",
      "0  2020   100  110.0   120   130   140   150   160   170   180    190    200   \n",
      "1  2021   200    NaN   220   230   240   250   260   270   280    290    300   \n",
      "2  2022   300  310.0   320   330   340   350   360   370   380    390    400   \n",
      "\n",
      "   Mês12  Chuva_Media_Anual  \n",
      "0    210         155.000000  \n",
      "1    310         259.090909  \n",
      "2    410         355.000000  \n"
     ]
    }
   ],
   "execution_count": 7
  },
  {
   "metadata": {},
   "cell_type": "code",
   "outputs": [],
   "execution_count": null,
   "source": "",
   "id": "a3f9c64764ed21b9"
  }
 ],
 "metadata": {
  "kernelspec": {
   "display_name": "Python 3",
   "language": "python",
   "name": "python3"
  },
  "language_info": {
   "codemirror_mode": {
    "name": "ipython",
    "version": 2
   },
   "file_extension": ".py",
   "mimetype": "text/x-python",
   "name": "python",
   "nbconvert_exporter": "python",
   "pygments_lexer": "ipython2",
   "version": "2.7.6"
  }
 },
 "nbformat": 4,
 "nbformat_minor": 5
}
